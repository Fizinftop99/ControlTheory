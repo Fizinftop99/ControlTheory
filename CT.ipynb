{
 "cells": [
  {
   "cell_type": "markdown",
   "metadata": {},
   "source": [
    "# Линейно-квадратичный регулятор\n",
    "$$\\dot{x} = Ax + Bu \\hspace{20mm} x(0) = x^0 $$\n",
    "\n",
    "Целевой функционал $J = \\int\\limits_0^{\\infty} (x^TQx + u^TRu)dt \\to min$\n",
    "\n",
    "Если система нелинейная, линеаризуем $\\dot{x} = f(x, u, t)$\n",
    "\n",
    "$ f(x,u) = f(x^0, u^0) + \\left\\frac{\\partial f}{\\partial x}\\right|_{x=x^0}(x-x^0) + \\left\\frac{\\partial f}{\\partial u}\\right|_{u=u^0}(u-u^0) + ... $\n",
    "\n",
    "$$ A(x) = \\left\\frac{\\partial f}{\\partial x}\\right|_{x=x^0}  B(x) = \\left\\frac{\\partial f}{\\partial u}\\right|_{u=u^0}(u-u^0) $$\n",
    "\n",
    "Решив алгебраическое уравнение Риккати с A(x(t)) и B(x(t)), найдем\n",
    "\n",
    "$$ u = -kx $$"
   ]
  },
  {
   "cell_type": "markdown",
   "metadata": {},
   "source": [
    "# State-Dependent Riccati Equation (SDRE)\n",
    "$$ x_{t+1} = Ax_t + Bu_t \n",
    "J = \\sum\\limits_{\\tau=0}^{N-1} (x_\\tau^TQx_\\tau + u_\\tau^TQu_\\tau) + x_N^TQ_fx_N $$\n",
    "\n",
    "$x_0$ - дано, $u_0, u_1, u_2,.. u_{N-1}$ - N управлений,\n",
    "\n",
    "N - горизонт (число шагов)\n",
    "\n",
    "$Q, R, Q_f$ - положительно определенные матрицы."
   ]
  },
  {
   "cell_type": "markdown",
   "metadata": {},
   "source": [
    "# Динамическое программирование\n",
    "## Уравнение Беллмана\n",
    "V - опорная функция (value-function)\n",
    "\n",
    "$$ V(z) = \\min_{u_t, u_{t+1},.. u_{t+N-1}}\\sum\\limits_{\\tau=t}^{t+N-1} \n",
    "(x_\\tau^TQx_\\tau + u_\\tau^TQu_\\tau) + x_{t+N}^TQ_fx_{t+N} $$\n",
    "\n",
    "\\begin{equation*}\n",
    " \\begin{cases}\n",
    "   x_t = z\n",
    "   \n",
    "   x_{\\tau+1} = Ax_\\tau + Bu_\\tau\n",
    "   \n",
    "   \\tau = t, t+1,.. ,t+N\n",
    " \\end{cases}\n",
    "\\end{equation*}\n",
    "\n",
    "На последнем шаге $V(z) = x_{t+N}^TQ_fx_{t+N}$\n",
    "Зная $V_{\\tau+1}(z)$ можно найти $V_{\\tau}(z)$:\n",
    "$$ V_\\tau(z) = \\min(x_\\tau^TQx_\\tau + u_\\tau^TQu_\\tau) + x_{t+N}^TQ_fx_{t+N} \\Rightarrow u_\\tau \\Rightarrow V_\\tau $$"
   ]
  },
  {
   "cell_type": "markdown",
   "metadata": {},
   "source": [
    "# iLQR - итерационный линейно-квадратичный регулятор\n",
    "\n",
    "$$ \\dot{x} = f(x, u) \\hspace{20mm} J = \\int\\limits_0^T (x^TQx + u^TRu)dt \\to 0 $$\n",
    "\\begin{enumerate} \n",
    "  \\item Линеаризация f:\n",
    "        $f(x,u) = f(x^0,u^0) + \\frac{\\partial f(x)}{\\partial x}(x-x^0) + ...$\n",
    "  \\item Выбрать управление\n",
    "  \\item На обратном проходе от N к $\\tau = T$ строим оптимальное управление $u^*$\n",
    "  \\item Повторяем шаги 2 и 3 до сходимости траектории к X\n",
    "\\end{enumerate}"
   ]
  },
  {
   "cell_type": "code",
   "execution_count": null,
   "metadata": {},
   "outputs": [],
   "source": []
  }
 ],
 "metadata": {
  "kernelspec": {
   "display_name": "Python 3",
   "language": "python",
   "name": "python3"
  },
  "language_info": {
   "codemirror_mode": {
    "name": "ipython",
    "version": 3
   },
   "file_extension": ".py",
   "mimetype": "text/x-python",
   "name": "python",
   "nbconvert_exporter": "python",
   "pygments_lexer": "ipython3",
   "version": "3.8.5"
  }
 },
 "nbformat": 4,
 "nbformat_minor": 4
}
